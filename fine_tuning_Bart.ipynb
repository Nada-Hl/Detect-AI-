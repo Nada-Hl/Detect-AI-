{
 "cells": [
  {
   "cell_type": "code",
   "execution_count": 22,
   "id": "79e203c3-7b25-4ac5-b179-364be8c98689",
   "metadata": {},
   "outputs": [],
   "source": [
    "import random, os, re, multiprocessing, nltk, gc\n",
    "from tabulate import tabulate\n",
    "import numpy as np\n",
    "import pandas as pd\n",
    "import matplotlib.pyplot as plt\n",
    "import seaborn as sns\n",
    "from sklearn.metrics import accuracy_score, classification_report\n",
    "from tqdm import tqdm\n",
    "import torch\n",
    "from torch.utils.data import DataLoader, TensorDataset, RandomSampler, Dataset\n",
    "from transformers import BartTokenizer, BartForSequenceClassification, get_linear_schedule_with_warmup\n",
    "from sklearn.model_selection import train_test_split\n",
    "from torch.optim import AdamW\n",
    "import ast\n",
    "import time"
   ]
  },
  {
   "cell_type": "code",
   "execution_count": 12,
   "id": "49fb6994-358a-409c-b236-6f0c1b30363d",
   "metadata": {},
   "outputs": [],
   "source": [
    "df = pd.read_csv('Bart_tkn_100k.csv')"
   ]
  },
  {
   "cell_type": "code",
   "execution_count": 14,
   "id": "17986caf-117b-4cd7-95de-02d4a9b10372",
   "metadata": {},
   "outputs": [
    {
     "name": "stdout",
     "output_type": "stream",
     "text": [
      "Using device: cuda\n"
     ]
    }
   ],
   "source": [
    "device = torch.device(\"cuda\" if torch.cuda.is_available() else \"cpu\")\n",
    "print(f\"Using device: {device}\")"
   ]
  },
  {
   "cell_type": "code",
   "execution_count": 15,
   "id": "b4c389e0-5dad-4965-a920-b56242b4d230",
   "metadata": {},
   "outputs": [],
   "source": [
    "df['input_ids'] = df['input_ids'].apply(ast.literal_eval)\n",
    "df['attention_mask'] = df['attention_mask'].apply(ast.literal_eval)"
   ]
  },
  {
   "cell_type": "code",
   "execution_count": 16,
   "id": "b43b4a4b-0113-4331-b19f-1001318ea79c",
   "metadata": {},
   "outputs": [],
   "source": [
    "input_ids = torch.tensor(df['input_ids'].tolist())\n",
    "attention_masks = torch.tensor(df['attention_mask'].tolist())\n",
    "labels = torch.tensor(df['label'].tolist())"
   ]
  },
  {
   "cell_type": "code",
   "execution_count": 17,
   "id": "0af0f4b9-0242-489c-b1b9-90b7f3e0a669",
   "metadata": {},
   "outputs": [],
   "source": [
    "torch.save((input_ids, attention_masks, labels), 'tokenized_Bart_data.pt')"
   ]
  },
  {
   "cell_type": "code",
   "execution_count": 18,
   "id": "e8a89e8f-2c56-4367-9c15-c0a5333d127b",
   "metadata": {},
   "outputs": [],
   "source": [
    "X_train_ids, X_val_ids, X_train_mask, X_val_mask, y_train, y_val = train_test_split(\n",
    "    input_ids, attention_masks, labels, test_size=0.2, random_state=42\n",
    ")"
   ]
  },
  {
   "cell_type": "code",
   "execution_count": 19,
   "id": "6440d244-cdd1-4575-8372-98fb4f278d22",
   "metadata": {},
   "outputs": [],
   "source": [
    "train_dataset = TensorDataset(X_train_ids, X_train_mask, y_train)\n",
    "val_dataset = TensorDataset(X_val_ids, X_val_mask, y_val)"
   ]
  },
  {
   "cell_type": "code",
   "execution_count": 20,
   "id": "b0ee2067-feba-4af1-a29c-3e901f5b0d04",
   "metadata": {},
   "outputs": [],
   "source": [
    "batch_size = 16\n",
    "train_loader = DataLoader(train_dataset, sampler=RandomSampler(train_dataset), batch_size=batch_size, pin_memory=True)\n",
    "val_loader = DataLoader(val_dataset, sampler=RandomSampler(val_dataset), batch_size=batch_size, pin_memory=True)"
   ]
  },
  {
   "cell_type": "code",
   "execution_count": 23,
   "id": "80c77ca2-cdab-45b2-92ee-d4159be5e1db",
   "metadata": {},
   "outputs": [
    {
     "name": "stderr",
     "output_type": "stream",
     "text": [
      "Some weights of BartForSequenceClassification were not initialized from the model checkpoint at facebook/bart-base and are newly initialized: ['classification_head.dense.bias', 'classification_head.dense.weight', 'classification_head.out_proj.bias', 'classification_head.out_proj.weight']\n",
      "You should probably TRAIN this model on a down-stream task to be able to use it for predictions and inference.\n"
     ]
    },
    {
     "data": {
      "text/plain": [
       "BartForSequenceClassification(\n",
       "  (model): BartModel(\n",
       "    (shared): BartScaledWordEmbedding(50265, 768, padding_idx=1)\n",
       "    (encoder): BartEncoder(\n",
       "      (embed_tokens): BartScaledWordEmbedding(50265, 768, padding_idx=1)\n",
       "      (embed_positions): BartLearnedPositionalEmbedding(1026, 768)\n",
       "      (layers): ModuleList(\n",
       "        (0-5): 6 x BartEncoderLayer(\n",
       "          (self_attn): BartSdpaAttention(\n",
       "            (k_proj): Linear(in_features=768, out_features=768, bias=True)\n",
       "            (v_proj): Linear(in_features=768, out_features=768, bias=True)\n",
       "            (q_proj): Linear(in_features=768, out_features=768, bias=True)\n",
       "            (out_proj): Linear(in_features=768, out_features=768, bias=True)\n",
       "          )\n",
       "          (self_attn_layer_norm): LayerNorm((768,), eps=1e-05, elementwise_affine=True)\n",
       "          (activation_fn): GELUActivation()\n",
       "          (fc1): Linear(in_features=768, out_features=3072, bias=True)\n",
       "          (fc2): Linear(in_features=3072, out_features=768, bias=True)\n",
       "          (final_layer_norm): LayerNorm((768,), eps=1e-05, elementwise_affine=True)\n",
       "        )\n",
       "      )\n",
       "      (layernorm_embedding): LayerNorm((768,), eps=1e-05, elementwise_affine=True)\n",
       "    )\n",
       "    (decoder): BartDecoder(\n",
       "      (embed_tokens): BartScaledWordEmbedding(50265, 768, padding_idx=1)\n",
       "      (embed_positions): BartLearnedPositionalEmbedding(1026, 768)\n",
       "      (layers): ModuleList(\n",
       "        (0-5): 6 x BartDecoderLayer(\n",
       "          (self_attn): BartSdpaAttention(\n",
       "            (k_proj): Linear(in_features=768, out_features=768, bias=True)\n",
       "            (v_proj): Linear(in_features=768, out_features=768, bias=True)\n",
       "            (q_proj): Linear(in_features=768, out_features=768, bias=True)\n",
       "            (out_proj): Linear(in_features=768, out_features=768, bias=True)\n",
       "          )\n",
       "          (activation_fn): GELUActivation()\n",
       "          (self_attn_layer_norm): LayerNorm((768,), eps=1e-05, elementwise_affine=True)\n",
       "          (encoder_attn): BartSdpaAttention(\n",
       "            (k_proj): Linear(in_features=768, out_features=768, bias=True)\n",
       "            (v_proj): Linear(in_features=768, out_features=768, bias=True)\n",
       "            (q_proj): Linear(in_features=768, out_features=768, bias=True)\n",
       "            (out_proj): Linear(in_features=768, out_features=768, bias=True)\n",
       "          )\n",
       "          (encoder_attn_layer_norm): LayerNorm((768,), eps=1e-05, elementwise_affine=True)\n",
       "          (fc1): Linear(in_features=768, out_features=3072, bias=True)\n",
       "          (fc2): Linear(in_features=3072, out_features=768, bias=True)\n",
       "          (final_layer_norm): LayerNorm((768,), eps=1e-05, elementwise_affine=True)\n",
       "        )\n",
       "      )\n",
       "      (layernorm_embedding): LayerNorm((768,), eps=1e-05, elementwise_affine=True)\n",
       "    )\n",
       "  )\n",
       "  (classification_head): BartClassificationHead(\n",
       "    (dense): Linear(in_features=768, out_features=768, bias=True)\n",
       "    (dropout): Dropout(p=0.0, inplace=False)\n",
       "    (out_proj): Linear(in_features=768, out_features=2, bias=True)\n",
       "  )\n",
       ")"
      ]
     },
     "execution_count": 23,
     "metadata": {},
     "output_type": "execute_result"
    }
   ],
   "source": [
    "model = BartForSequenceClassification.from_pretrained('facebook/bart-base', num_labels=2)\n",
    "model.to(device)"
   ]
  },
  {
   "cell_type": "code",
   "execution_count": 24,
   "id": "c7872d02-7819-4f51-a343-04510c4ce33b",
   "metadata": {},
   "outputs": [],
   "source": [
    "optimizer = AdamW(model.parameters(), lr=2e-5, eps=1e-8)\n",
    "scheduler = get_linear_schedule_with_warmup(\n",
    "    optimizer, num_warmup_steps=0, num_training_steps=len(train_loader) * 1\n",
    ")"
   ]
  },
  {
   "cell_type": "code",
   "execution_count": 26,
   "id": "42551e9c-e4d6-4ef1-98a2-033e118b4a85",
   "metadata": {},
   "outputs": [],
   "source": [
    "# Training function (runs one chunk at a time)\n",
    "def train_in_chunks(model, train_loader, val_loader, epochs=1):\n",
    "    history = []\n",
    "\n",
    "    for epoch in range(epochs):\n",
    "        print(f\"\\nEpoch {epoch+1}/{epochs}\")\n",
    "        model.train()\n",
    "        total_loss, y_preds, y_true = 0, [], []\n",
    "\n",
    "        for i, batch in enumerate(tqdm(train_loader, desc=\"Training\")):\n",
    "            b_input_ids, b_mask, b_labels = [x.to(device) for x in batch]\n",
    "            model.zero_grad()\n",
    "\n",
    "            outputs = model(b_input_ids, attention_mask=b_mask, labels=b_labels)\n",
    "            loss, logits = outputs.loss, outputs.logits\n",
    "\n",
    "            loss.backward()\n",
    "            torch.nn.utils.clip_grad_norm_(model.parameters(), 1.0)\n",
    "            optimizer.step()\n",
    "            scheduler.step()\n",
    "\n",
    "            preds = torch.argmax(logits, dim=1).detach().cpu().numpy()\n",
    "            labels_cpu = b_labels.cpu().numpy()\n",
    "            y_preds.extend(preds)\n",
    "            y_true.extend(labels_cpu)\n",
    "            total_loss += loss.item()\n",
    "\n",
    "        train_acc = accuracy_score(y_true, y_preds)\n",
    "        val_loss, val_acc = evaluate(model, val_loader)\n",
    "        history.append({'train_loss': total_loss / len(train_loader), 'train_acc': train_acc,\n",
    "                        'val_loss': val_loss, 'val_acc': val_acc})\n",
    "        print(f\"Train Acc: {train_acc:.4f} | Val Acc: {val_acc:.4f}\")\n",
    "\n",
    "    return history"
   ]
  },
  {
   "cell_type": "code",
   "execution_count": 27,
   "id": "19bd5982-da4a-424d-bfc5-dbc79246a5fd",
   "metadata": {},
   "outputs": [],
   "source": [
    "# Evaluation function\n",
    "def evaluate(model, dataloader):\n",
    "    model.eval()\n",
    "    total_loss, y_preds, y_true = 0, [], []\n",
    "\n",
    "    for batch in tqdm(dataloader, desc=\"Evaluating\"):\n",
    "        b_input_ids, b_mask, b_labels = [x.to(device) for x in batch]\n",
    "\n",
    "        with torch.no_grad():\n",
    "            outputs = model(b_input_ids, attention_mask=b_mask, labels=b_labels)\n",
    "            loss, logits = outputs.loss, outputs.logits\n",
    "\n",
    "        preds = torch.argmax(logits, dim=1).detach().cpu().numpy()\n",
    "        labels = b_labels.cpu().numpy()\n",
    "        total_loss += loss.item()\n",
    "        y_preds.extend(preds)\n",
    "        y_true.extend(labels)\n",
    "\n",
    "    acc = accuracy_score(y_true, y_preds)\n",
    "    return total_loss / len(dataloader), acc"
   ]
  },
  {
   "cell_type": "code",
   "execution_count": 28,
   "id": "e6524458-459f-4415-a4fb-c13fac10d14d",
   "metadata": {},
   "outputs": [
    {
     "name": "stdout",
     "output_type": "stream",
     "text": [
      "\n",
      "Epoch 1/1\n"
     ]
    },
    {
     "name": "stderr",
     "output_type": "stream",
     "text": [
      "Training: 100%|████████████████████████████████████████████████████████████████████| 500/500 [7:59:01<00:00, 57.48s/it]\n",
      "Evaluating: 100%|██████████████████████████████████████████████████████████████████| 125/125 [1:11:19<00:00, 34.23s/it]"
     ]
    },
    {
     "name": "stdout",
     "output_type": "stream",
     "text": [
      "Train Acc: 0.8572 | Val Acc: 0.8970\n"
     ]
    },
    {
     "name": "stderr",
     "output_type": "stream",
     "text": [
      "\n"
     ]
    }
   ],
   "source": [
    "# Train the model\n",
    "history = train_in_chunks(model, train_loader, val_loader, epochs=1)"
   ]
  },
  {
   "cell_type": "code",
   "execution_count": 29,
   "id": "8cf2f562-7056-4216-aa2c-7cffb9f876c7",
   "metadata": {},
   "outputs": [],
   "source": [
    "# Save model\n",
    "torch.save(model.state_dict(), 'bart_finetuned_downsampled.pt')"
   ]
  },
  {
   "cell_type": "code",
   "execution_count": 30,
   "id": "e23e4e64-27e0-43f5-9a5d-3987f48a54c2",
   "metadata": {},
   "outputs": [
    {
     "name": "stdout",
     "output_type": "stream",
     "text": [
      "\n",
      "Classification Report:\n",
      "              precision    recall  f1-score   support\n",
      "\n",
      "           0       0.98      0.81      0.89       987\n",
      "           1       0.84      0.98      0.91      1013\n",
      "\n",
      "    accuracy                           0.90      2000\n",
      "   macro avg       0.91      0.90      0.90      2000\n",
      "weighted avg       0.91      0.90      0.90      2000\n",
      "\n"
     ]
    }
   ],
   "source": [
    "# Evaluate and print final report\n",
    "model.eval()\n",
    "all_preds, all_labels = [], []\n",
    "for batch in val_loader:\n",
    "    b_input_ids, b_mask, b_labels = [x.to(device) for x in batch]\n",
    "    with torch.no_grad():\n",
    "        outputs = model(b_input_ids, attention_mask=b_mask)\n",
    "    preds = torch.argmax(outputs.logits, dim=1).detach().cpu().numpy()\n",
    "    all_preds.extend(preds)\n",
    "    all_labels.extend(b_labels.cpu().numpy())\n",
    "\n",
    "print(\"\\nClassification Report:\")\n",
    "print(classification_report(all_labels, all_preds))"
   ]
  },
  {
   "cell_type": "code",
   "execution_count": 31,
   "id": "93268ed0-e981-45c0-912f-7ea6f830de9b",
   "metadata": {},
   "outputs": [
    {
     "data": {
      "image/png": "[encoded data removed]",
      "text/plain": [
       "<Figure size 1200x500 with 2 Axes>"
      ]
     },
     "metadata": {},
     "output_type": "display_data"
    }
   ],
   "source": [
    "# Plotting\n",
    "plt.figure(figsize=(12, 5))\n",
    "plt.subplot(1, 2, 1)\n",
    "plt.plot([x['train_loss'] for x in history], label='Train Loss')\n",
    "plt.plot([x['val_loss'] for x in history], label='Val Loss')\n",
    "plt.legend()\n",
    "plt.title(\"Loss\")\n",
    "plt.savefig(\"LOSS_Bart.png\")\n",
    "\n",
    "plt.subplot(1, 2, 2)\n",
    "plt.plot([x['train_acc'] for x in history], label='Train Acc')\n",
    "plt.plot([x['val_acc'] for x in history], label='Val Acc')\n",
    "plt.legend()\n",
    "plt.title(\"Accuracy\")\n",
    "plt.savefig(\"ACCURACY_Bart.png\")\n",
    "\n",
    "plt.show()\n"
   ]
  },
  {
   "cell_type": "code",
   "execution_count": 34,
   "id": "3c46b9ad-ad87-42b6-9a10-1f83d7831648",
   "metadata": {},
   "outputs": [
    {
     "data": {
      "text/plain": [
       "0    4013\n",
       "1    3987\n",
       "Name: count, dtype: int64"
      ]
     },
     "execution_count": 34,
     "metadata": {},
     "output_type": "execute_result"
    }
   ],
   "source": [
    "pd.Series(y_train.tolist()).value_counts()"
   ]
  },
  {
   "cell_type": "code",
   "execution_count": 35,
   "id": "5172e403-a54b-435e-8fc5-3480b867e3c8",
   "metadata": {},
   "outputs": [
    {
     "data": {
      "text/plain": [
       "1    1013\n",
       "0     987\n",
       "Name: count, dtype: int64"
      ]
     },
     "execution_count": 35,
     "metadata": {},
     "output_type": "execute_result"
    }
   ],
   "source": [
    "pd.Series(y_val.tolist()).value_counts()"
   ]
  },
  {
   "cell_type": "code",
   "execution_count": null,
   "id": "1e6ed199-67d9-494e-bb19-b4993dcbd954",
   "metadata": {},
   "outputs": [],
   "source": []
  }
 ],
 "metadata": {
  "kernelspec": {
   "display_name": "Python 3 (ipykernel)",
   "language": "python",
   "name": "python3"
  },
  "language_info": {
   "codemirror_mode": {
    "name": "ipython",
    "version": 3
   },
   "file_extension": ".py",
   "mimetype": "text/x-python",
   "name": "python",
   "nbconvert_exporter": "python",
   "pygments_lexer": "ipython3",
   "version": "3.13.3"
  }
 },
 "nbformat": 4,
 "nbformat_minor": 5
}
